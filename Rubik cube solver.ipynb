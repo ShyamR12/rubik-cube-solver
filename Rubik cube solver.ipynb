{
 "cells": [
  {
   "cell_type": "code",
   "execution_count": 1,
   "id": "761c3bf0",
   "metadata": {},
   "outputs": [],
   "source": [
    "import cv2 as cv\n",
    "import numpy as np\n",
    "from imutils import contours"
   ]
  },
  {
   "cell_type": "code",
   "execution_count": 2,
   "id": "c82e2f74",
   "metadata": {},
   "outputs": [],
   "source": [
    "def get_color(frame):\n",
    "    hsv_frame = cv.cvtColor(frame, cv.COLOR_BGR2HSV)\n",
    "    height, width, _ = frame.shape\n",
    "    cx = int(width / 2)\n",
    "    cy = int(height / 2)\n",
    "    # Pick pixel value\n",
    "    pixel_center = hsv_frame[cy, cx]\n",
    "    hue_value = pixel_center[0]\n",
    "#     print(f\"hue val is {hue_value}\")\n",
    "    color = \"Undefined\"\n",
    "    if hue_value < 10:\n",
    "        color = \"Orange\"\n",
    "    elif hue_value < 35:\n",
    "        color = \"Yellow\"\n",
    "    elif hue_value < 90:\n",
    "        color = \"Green\"\n",
    "    elif hue_value < 105:\n",
    "        color = \"White\"\n",
    "    elif hue_value < 120:\n",
    "        color = \"Blue\"\n",
    "    elif hue_value < 200:\n",
    "        color = \"Red\"\n",
    "    return color"
   ]
  },
  {
   "cell_type": "code",
   "execution_count": 4,
   "id": "df6a18a7",
   "metadata": {},
   "outputs": [
    {
     "name": "stdout",
     "output_type": "stream",
     "text": [
      "18972.0\n",
      "188 843 142 143 18302.5\n",
      "190 664 139 137 16564.0\n",
      "191 494 135 130 17930.0\n",
      "367 660 140 140 16967.5\n",
      "367 491 137 134 19321.5\n",
      "370 838 143 142 17322.5\n",
      "546 485 139 133 17701.5\n",
      "549 659 138 136 19347.5\n",
      "553 839 147 144 "
     ]
    }
   ],
   "source": [
    "img = cv.imread(\"images/20.jpeg\")\n",
    "original  = img.copy()\n",
    "# cv.imshow('img',img)\n",
    "gray = cv.cvtColor(img,cv.COLOR_BGR2GRAY)\n",
    "\n",
    "# type of blur which preserves edges\n",
    "# blur = cv.bilateralFilter(gray, 7, 7,10)\n",
    "# sharpen_kernel = np.array([[-1,-1,-1], [-1,9,-1], [-1,-1,-1]])\n",
    "# sharpen_kernel_5 = np.array([[0,-1,0], [-1,5,-1], [0,-1,0]])\n",
    "# sharpen_kernel_4 = np.array([[0,1,0], [1,-4,1], [0,1,0]])\n",
    "\n",
    "# sharpen = cv.filter2D(blur, -1, sharpen_kernel)\n",
    "# sharpen_4 = cv.filter2D(blur, -1, sharpen_kernel_4)\n",
    "# sharpen_5 = cv.filter2D(blur, -1, sharpen_kernel_5)\n",
    "# sharpen = cv.filter2D(blur, -1, sharpen_kernel)\n",
    "# sharpen = cv.filter2D(blur, -1, sharpen_kernel)\n",
    "\n",
    "\n",
    "# thresh = cv.adaptiveThreshold(sharpen,255,cv.ADAPTIVE_THRESH_MEAN_C,cv.THRESH_BINARY_INV,9,1)\n",
    "thresh = cv.adaptiveThreshold(gray,42,cv.ADAPTIVE_THRESH_GAUSSIAN_C,cv.THRESH_BINARY,41,0)\n",
    "kernel = cv.getStructuringElement(cv.MORPH_RECT,(3,3))\n",
    "\n",
    "\n",
    "\n",
    "thresh = cv.morphologyEx(thresh, cv.MORPH_OPEN, kernel)\n",
    "thresh = cv.morphologyEx(thresh, cv.MORPH_CLOSE, kernel)\n",
    "# thresh = cv.threshold(thresh,127,255,cv.THRESH_BINARY)\n",
    "\n",
    "cnts = cv.findContours(thresh,cv.RETR_CCOMP,cv.CHAIN_APPROX_NONE)\n",
    "# cnts = cv.findContours(close,cv.RETR_CCOMP,cv.CHAIN_APPROX_NONE)\n",
    "\n",
    "cnts = cnts[0] if len(cnts) == 2 else cnts[1]\n",
    "(cnts, _) = contours.sort_contours(cnts, method=\"left-to-right\")\n",
    "\n",
    "number = 0\n",
    "min_area = 15000\n",
    "max_area = 100000\n",
    "for c in cnts:\n",
    "    area = cv.contourArea(c)\n",
    "    \n",
    "    if area > min_area and area < max_area:\n",
    "        print(area)\n",
    "        x,y,w,h = cv.boundingRect(c)\n",
    "        print(x,y,w,h,end=\" \")\n",
    "        tmp = original[y:y+h, x:x+w]\n",
    "#         cv.imshow(\"{}\".format(number + 1),tmp)\n",
    "        sq_color = get_color(tmp)\n",
    "#         cv.drawContours(image=original, contours=c, contourIdx=-1, color=(0, 255, 0), thickness=2, lineType=cv.LINE_AA)\n",
    "        cv.rectangle(original, (x, y), (x + w, y + h), (36,255,12), 2)\n",
    "        number += 1\n",
    "        cv.putText(original, \"#{}\".format(sq_color), (x,y - 5), cv.FONT_HERSHEY_SIMPLEX, 1, (255,255,255), 2)\n",
    "\n",
    "# cv.imshow('thresh',thresh)\n",
    "resized_thresh = cv.resize(thresh, (300,600), interpolation= cv.INTER_LINEAR)\n",
    "cv.imshow('resized_thresh',resized_thresh)\n",
    "\n",
    "# cv.imshow('sharpen_4',sharpen_4)\n",
    "# cv.imshow('sharpen_5',sharpen_5)\n",
    "# cv.imshow('blur', blur)\n",
    "# cv.imshow('gray',gray)\n",
    "# cv.imshow('original', original)\n",
    "resized_down = cv.resize(original, (300,600), interpolation= cv.INTER_LINEAR)\n",
    "cv.imshow('resized',resized_down)\n",
    "# cv.imshow('sharpen',sharpen)\n",
    "cv.waitKey()\n",
    "cv.destroyAllWindows()"
   ]
  },
  {
   "cell_type": "code",
   "execution_count": null,
   "id": "e108b0cd",
   "metadata": {},
   "outputs": [],
   "source": []
  }
 ],
 "metadata": {
  "kernelspec": {
   "display_name": "Python 3",
   "language": "python",
   "name": "python3"
  },
  "language_info": {
   "codemirror_mode": {
    "name": "ipython",
    "version": 3
   },
   "file_extension": ".py",
   "mimetype": "text/x-python",
   "name": "python",
   "nbconvert_exporter": "python",
   "pygments_lexer": "ipython3",
   "version": "3.8.8"
  }
 },
 "nbformat": 4,
 "nbformat_minor": 5
}
